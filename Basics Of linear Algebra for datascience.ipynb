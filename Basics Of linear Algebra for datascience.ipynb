{
 "cells": [
  {
   "cell_type": "markdown",
   "metadata": {},
   "source": [
    "# SCALARS AND VECTORS"
   ]
  },
  {
   "cell_type": "markdown",
   "metadata": {},
   "source": [
    "Scaler is a single no denoted as x\n",
    "\n",
    "Vector is an array of scalers\n",
    "\n",
    "Thus Vector has n no's of Scalers\n",
    "\n",
    "There are two type of vector row and column\n",
    "\n",
    "Note: Its indexing becomes with 1 unlike in python where it becomes from 0:\n",
    "\n",
    "\n",
    "Lets look how we can create an array Using numpy\n"
   ]
  },
  {
   "cell_type": "code",
   "execution_count": 4,
   "metadata": {},
   "outputs": [
    {
     "data": {
      "text/plain": [
       "(3, 1)"
      ]
     },
     "execution_count": 4,
     "metadata": {},
     "output_type": "execute_result"
    }
   ],
   "source": [
    "import numpy as np\n",
    "x=np.array([[1],[2],[3]])\n",
    "x.shape\n",
    "#for seeing numpy functions of array refer to my git repositry \n",
    "# Link = https://github.com/Taha028/Numpy-"
   ]
  },
  {
   "cell_type": "markdown",
   "metadata": {},
   "source": [
    "So we are now talking about Vectors\n",
    "Consider a image having man standing in it you have to predict a face in a image so the image dimensions store \n",
    "in vector in the form of this:\n",
    "Lets see when you predict image it consist of vector face=[x,y,w,h] if more faces to predict it store in many \n",
    "vectors like this:\n",
    "\n",
    "\n",
    "                    face=[x,y,w,h]\n",
    "                    face1=[x1,y1,w1,h1]\n",
    "                            .\n",
    "                            .\n",
    "                            .\n",
    "                    faceN=[xn,yn,wn,hn]\n",
    "                    \n",
    "                    \n",
    "So for binding these many vectors in single we use matrix like this\n",
    "\n",
    "\n",
    "                            faces=[face=[x,y,w,h]\n",
    "                                   face1=[x1,y1,w1,h1]]\n",
    "\n",
    "Matrix is nothing but its a 2d array of Scaler's\n",
    "                                \n",
    "                    "
   ]
  },
  {
   "cell_type": "markdown",
   "metadata": {},
   "source": [
    "# Tensors"
   ]
  },
  {
   "cell_type": "markdown",
   "metadata": {},
   "source": [
    "Tensors is an array having more than two axis. Consider an 3d image:\n",
    "\n",
    "Image consist of pixels and pixels are tuple having 3 values. For example if you want to reperesent white pixels it has [255,255,255].In example its 2d image but in memory its 3d because it has 3 no of channels one for red one for green and one for blue. So 3d image have size (w,h,3) 3 value is representing a RGB color.so you can say image is nothing but tensor and have 3 axis "
   ]
  },
  {
   "cell_type": "code",
   "execution_count": 10,
   "metadata": {},
   "outputs": [
    {
     "name": "stdout",
     "output_type": "stream",
     "text": [
      "(3, 4)\n",
      "[[ 4  5  7 10 10 11]\n",
      " [13 11 56 80 90 12]]\n",
      "(2, 6)\n"
     ]
    }
   ],
   "source": [
    "#Making a tensor \n",
    "X=np.array([[4,5,7,10],\n",
    "           [10,11,13,11],\n",
    "           [56,80,90,12]])\n",
    "print(X.shape)\n",
    "#for reshaping you can use np.reshape it will be use in making tensors\n",
    "#That -1 is a wild card you just need to put in a place of row and column and \n",
    "#on the other hand give you desired no of rows or column you array will be reshape\n",
    "#as you can see we dont have to give column we just give row and the column computed by themselve\n",
    "X=X.reshape((2,-1))\n",
    "print(X)\n",
    "print(X.shape)"
   ]
  },
  {
   "cell_type": "code",
   "execution_count": 14,
   "metadata": {},
   "outputs": [
    {
     "name": "stdout",
     "output_type": "stream",
     "text": [
      "[[[1 1 1]\n",
      "  [1 1 1]\n",
      "  [1 1 1]\n",
      "  [1 1 1]\n",
      "  [1 1 1]]\n",
      "\n",
      " [[1 1 1]\n",
      "  [1 1 1]\n",
      "  [1 1 1]\n",
      "  [1 1 1]\n",
      "  [1 1 1]]\n",
      "\n",
      " [[1 1 1]\n",
      "  [1 1 1]\n",
      "  [1 1 1]\n",
      "  [1 1 1]\n",
      "  [1 1 1]]\n",
      "\n",
      " [[1 1 1]\n",
      "  [1 1 1]\n",
      "  [1 1 1]\n",
      "  [1 1 1]\n",
      "  [1 1 1]]\n",
      "\n",
      " [[1 1 1]\n",
      "  [1 1 1]\n",
      "  [1 1 1]\n",
      "  [1 1 1]\n",
      "  [1 1 1]]]\n"
     ]
    },
    {
     "data": {
      "image/png": "[encoded data removed]",
      "text/plain": [
       "<Figure size 432x288 with 1 Axes>"
      ]
     },
     "metadata": {
      "needs_background": "light"
     },
     "output_type": "display_data"
    }
   ],
   "source": [
    "#Now making Tensors\n",
    "#Unsigned int 8 is used to create images so we use unit8\n",
    "T=np.ones((5,5,3),dtype='uint8')\n",
    "print(T)\n",
    "import matplotlib.pyplot as plt\n",
    "plt.imshow(T)\n",
    "plt.show()\n",
    "#it is showing black image because the channel is zero no will show you how \n",
    "#how to give channel to change the color of image"
   ]
  },
  {
   "cell_type": "code",
   "execution_count": 16,
   "metadata": {},
   "outputs": [
    {
     "data": {
      "image/png": "[encoded data removed]",
      "text/plain": [
       "<Figure size 432x288 with 1 Axes>"
      ]
     },
     "metadata": {
      "needs_background": "light"
     },
     "output_type": "display_data"
    }
   ],
   "source": [
    "#giving channel\n",
    "#see at 2 channel the color is blue we are giving value to channel like this\n",
    "T[:,:,2]=255\n",
    "plt.imshow(T)\n",
    "plt.show()"
   ]
  },
  {
   "cell_type": "markdown",
   "metadata": {},
   "source": [
    "# if you want to give values on channel multiple time than do this"
   ]
  },
  {
   "cell_type": "markdown",
   "metadata": {},
   "source": [
    "\n",
    "import numpy as np: This imports the NumPy library, which provides support for arrays and mathematical operations on arrays.\n",
    "\n",
    "import matplotlib.pyplot as plt: This imports the pyplot module from the matplotlib library, which provides support for creating plots and visualizations.\n",
    "\n",
    "T = np.zeros((8, 8, 3), dtype=np.uint8): This creates a 3-dimensional NumPy array T with shape (8, 8, 3), which means it has 8 rows, 8 columns, and 3 channels (one for red, green, and blue). The array is initialized with all values set to zero and the dtype argument specifies the data type of the array elements to be unsigned 8-bit integers.\n",
    "\n",
    "channel_array = np.zeros((8, 8, 3), dtype=np.uint8): This creates a 3-dimensional NumPy array channel_array with the same shape as the last channel of T (i.e., (8, 8, 3)). The array is initialized with all values set to zero and the dtype argument specifies the data type of the array elements to be unsigned 8-bit integers.\n",
    "\n",
    "for i in range(7):: This initiates a nested loop that iterates over each row i (0 to 6) in channel_array.\n",
    "\n",
    "for j in range(7):: This initiates another nested loop that iterates over each column j (0 to 6) in channel_array.\n",
    "\n",
    "channel_array[i, j] = channel_values[(i + j) % len(channel_values)]: This assigns an RGB color from channel_values to a pixel at position (i, j) in the channel_array. The color value is determined by indexing into channel_values using the expression (i + j) % len(channel_values), which computes the remainder when the sum of i and j is divided by the length of channel_values. By assigning the indexed color value to channel_array[i, j], the code effectively sets the color of the pixel at position (i, j) to the corresponding RGB value from channel_values.\n",
    "\n",
    "T[:, :, 2] = channel_array[:, :, 2]: This assigns the last channel of channel_array (which contains the desired RGB values) to the last channel of T. This sets the blue channel of each pixel in T to the corresponding blue channel value from channel_array, effectively setting the color of each pixel in T to the desired RGB value.\n",
    "\n",
    "plt.imshow(T): This displays the resulting image represented by T.\n",
    "\n",
    "plt.show(): This shows the plot on the screen."
   ]
  },
  {
   "cell_type": "code",
   "execution_count": 35,
   "metadata": {},
   "outputs": [],
   "source": [
    "channel_values = np.array([[255, 0, 0],  # red\n",
    "                           [0, 255, 0],  # green\n",
    "                           [0, 0, 255],  # blue\n",
    "                           [255, 255, 0],  # yellow\n",
    "                           [255, 255, 255],  # magenta\n",
    "                           [0, 255, 255],  # cyan\n",
    "                           [255, 255, 255],\n",
    "                          [255, 255, 255]])  # white"
   ]
  },
  {
   "cell_type": "code",
   "execution_count": 36,
   "metadata": {},
   "outputs": [
    {
     "data": {
      "image/png": "[encoded data removed]",
      "text/plain": [
       "<Figure size 432x288 with 1 Axes>"
      ]
     },
     "metadata": {
      "needs_background": "light"
     },
     "output_type": "display_data"
    }
   ],
   "source": [
    "#if you want to give values on channel multiple time than do this\n",
    "\n",
    "import numpy as np\n",
    "import matplotlib.pyplot as plt\n",
    "\n",
    "# Create a 3-dimensional numpy array with shape (7, 7, 3)\n",
    "T = np.zeros((8, 8, 3), dtype=np.uint8)\n",
    "\n",
    "# Create a 2-dimensional numpy array of the same shape as the last channel of T\n",
    "channel_array = np.zeros((8, 8, 3), dtype=np.uint8)\n",
    "\n",
    "# Loop through each pixel in the channel_array and assign the corresponding RGB values from channel_values\n",
    "for i in range(7):\n",
    "    for j in range(7):\n",
    "        channel_array[i, j] = channel_values[(i + j) % len(channel_values)]\n",
    "\n",
    "# Assign the channel_array to the last channel of T\n",
    "#we are assigning blue value to last channel of Tensor just for an example and then assigning the channel array to tensor array\n",
    "T[:, :, 2] = channel_array[:, :, 2]\n",
    "\n",
    "# Show the resulting image\n",
    "plt.imshow(T)\n",
    "plt.show()\n"
   ]
  },
  {
   "cell_type": "markdown",
   "metadata": {},
   "source": [
    "# Transpose"
   ]
  },
  {
   "cell_type": "markdown",
   "metadata": {},
   "source": [
    "For a vector, transpose makes the columns vector into a row vector."
   ]
  },
  {
   "cell_type": "code",
   "execution_count": 32,
   "metadata": {},
   "outputs": [
    {
     "name": "stdout",
     "output_type": "stream",
     "text": [
      "[[ 4  5  7 10 10 11]\n",
      " [13 11 56 80 90 12]]\n"
     ]
    },
    {
     "data": {
      "text/plain": [
       "array([[ 4, 13],\n",
       "       [ 5, 11],\n",
       "       [ 7, 56],\n",
       "       [10, 80],\n",
       "       [10, 90],\n",
       "       [11, 12]])"
      ]
     },
     "execution_count": 32,
     "metadata": {},
     "output_type": "execute_result"
    }
   ],
   "source": [
    "#You can see that row vector converted in to column vecoto\n",
    "#it is useful for handling data\n",
    "print(X)\n",
    "X.T"
   ]
  },
  {
   "cell_type": "code",
   "execution_count": 45,
   "metadata": {},
   "outputs": [
    {
     "name": "stdout",
     "output_type": "stream",
     "text": [
      "[[[1 1 1]\n",
      "  [1 1 1]\n",
      "  [1 1 1]\n",
      "  [1 1 1]\n",
      "  [1 1 1]\n",
      "  [1 1 1]]\n",
      "\n",
      " [[1 1 1]\n",
      "  [1 1 1]\n",
      "  [1 1 1]\n",
      "  [1 1 1]\n",
      "  [1 1 1]\n",
      "  [1 1 1]]\n",
      "\n",
      " [[1 1 1]\n",
      "  [1 1 1]\n",
      "  [1 1 1]\n",
      "  [1 1 1]\n",
      "  [1 1 1]\n",
      "  [1 1 1]]\n",
      "\n",
      " [[1 1 1]\n",
      "  [1 1 1]\n",
      "  [1 1 1]\n",
      "  [1 1 1]\n",
      "  [1 1 1]\n",
      "  [1 1 1]]\n",
      "\n",
      " [[1 1 1]\n",
      "  [1 1 1]\n",
      "  [1 1 1]\n",
      "  [1 1 1]\n",
      "  [1 1 1]\n",
      "  [1 1 1]]]\n"
     ]
    },
    {
     "data": {
      "image/png": "[encoded data removed]",
      "text/plain": [
       "<Figure size 432x288 with 1 Axes>"
      ]
     },
     "metadata": {
      "needs_background": "light"
     },
     "output_type": "display_data"
    }
   ],
   "source": [
    "#reason for telling the transpose function is that we are going to \n",
    "#transpose a tensor\n",
    "\n",
    "T=np.ones((5,6,3),dtype='uint8')\n",
    "print(T)\n",
    "import matplotlib.pyplot as plt\n",
    "plt.imshow(T)\n",
    "plt.show()"
   ]
  },
  {
   "cell_type": "code",
   "execution_count": 50,
   "metadata": {},
   "outputs": [
    {
     "name": "stdout",
     "output_type": "stream",
     "text": [
      "(5, 6, 3)\n",
      "(3, 6, 5)\n"
     ]
    }
   ],
   "source": [
    "print(T.shape)\n",
    "T1=np.transpose(T)\n",
    "print(T1.shape)"
   ]
  },
  {
   "cell_type": "code",
   "execution_count": 51,
   "metadata": {},
   "outputs": [
    {
     "name": "stdout",
     "output_type": "stream",
     "text": [
      "(3, 5, 6)\n"
     ]
    }
   ],
   "source": [
    "#can also change the indexing of row column \n",
    "#and channel on desired position\n",
    "#0 index is for row 1 is for column and 2 is for channel \n",
    "#so you can manipulate on you desired location\n",
    "#Just for info used in DL: when you store channel on first it called channel first and when in last it called channel last\n",
    "T1=np.transpose(T,axes=(2,0,1))\n",
    "print(T1.shape)"
   ]
  },
  {
   "cell_type": "markdown",
   "metadata": {},
   "source": [
    "# BroadCasting"
   ]
  },
  {
   "cell_type": "code",
   "execution_count": null,
   "metadata": {},
   "outputs": [],
   "source": []
  }
 ],
 "metadata": {
  "kernelspec": {
   "display_name": "Python 3",
   "language": "python",
   "name": "python3"
  },
  "language_info": {
   "codemirror_mode": {
    "name": "ipython",
    "version": 3
   },
   "file_extension": ".py",
   "mimetype": "text/x-python",
   "name": "python",
   "nbconvert_exporter": "python",
   "pygments_lexer": "ipython3",
   "version": "3.8.5"
  }
 },
 "nbformat": 4,
 "nbformat_minor": 4
}
